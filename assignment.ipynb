{
 "cells": [
  {
   "cell_type": "markdown",
   "metadata": {},
   "source": [
    "# Pre-requisites\n",
    "- WSL\n",
    "- Miniconda3 "
   ]
  },
  {
   "cell_type": "markdown",
   "metadata": {},
   "source": [
    "# Setup environment\n",
    "- Create conda env `conda create langchain python=3.11`\n",
    "- Install the ipykernel into langchain conda env with `conda install -n langchain ipykernel --update-deps --force-reinstall`\n",
    "- Set the \"langchain\" env that has been just created as the running env in VS code\n"
   ]
  },
  {
   "cell_type": "markdown",
   "metadata": {},
   "source": [
    "Install langchain and openai package"
   ]
  },
  {
   "cell_type": "code",
   "execution_count": 56,
   "metadata": {},
   "outputs": [
    {
     "name": "stdout",
     "output_type": "stream",
     "text": [
      "Requirement already satisfied: langchain==0.3.2 in c:\\users\\dnhoa\\anaconda3\\envs\\langchain\\lib\\site-packages (0.3.2)\n",
      "Requirement already satisfied: openai==1.51.0 in c:\\users\\dnhoa\\anaconda3\\envs\\langchain\\lib\\site-packages (1.51.0)\n",
      "Requirement already satisfied: python-dotenv==1.0.1 in c:\\users\\dnhoa\\anaconda3\\envs\\langchain\\lib\\site-packages (1.0.1)\n",
      "Requirement already satisfied: langchain-openai==0.2.2 in c:\\users\\dnhoa\\anaconda3\\envs\\langchain\\lib\\site-packages (0.2.2)\n",
      "Requirement already satisfied: langchain-community==0.3.0 in c:\\users\\dnhoa\\anaconda3\\envs\\langchain\\lib\\site-packages (0.3.0)\n",
      "Requirement already satisfied: pypdf==5.0.1 in c:\\users\\dnhoa\\anaconda3\\envs\\langchain\\lib\\site-packages (5.0.1)\n",
      "Requirement already satisfied: chromadb==0.5.11 in c:\\users\\dnhoa\\anaconda3\\envs\\langchain\\lib\\site-packages (0.5.11)\n",
      "Requirement already satisfied: duckduckgo-search==6.2.13 in c:\\users\\dnhoa\\anaconda3\\envs\\langchain\\lib\\site-packages (6.2.13)\n",
      "Requirement already satisfied: numexpr==2.10.1 in c:\\users\\dnhoa\\anaconda3\\envs\\langchain\\lib\\site-packages (2.10.1)\n",
      "Requirement already satisfied: PyYAML>=5.3 in c:\\users\\dnhoa\\anaconda3\\envs\\langchain\\lib\\site-packages (from langchain==0.3.2) (6.0.2)\n",
      "Requirement already satisfied: SQLAlchemy<3,>=1.4 in c:\\users\\dnhoa\\anaconda3\\envs\\langchain\\lib\\site-packages (from langchain==0.3.2) (2.0.35)\n",
      "Requirement already satisfied: aiohttp<4.0.0,>=3.8.3 in c:\\users\\dnhoa\\anaconda3\\envs\\langchain\\lib\\site-packages (from langchain==0.3.2) (3.10.9)\n",
      "Requirement already satisfied: langchain-core<0.4.0,>=0.3.8 in c:\\users\\dnhoa\\anaconda3\\envs\\langchain\\lib\\site-packages (from langchain==0.3.2) (0.3.9)\n",
      "Requirement already satisfied: langchain-text-splitters<0.4.0,>=0.3.0 in c:\\users\\dnhoa\\anaconda3\\envs\\langchain\\lib\\site-packages (from langchain==0.3.2) (0.3.0)\n",
      "Requirement already satisfied: langsmith<0.2.0,>=0.1.17 in c:\\users\\dnhoa\\anaconda3\\envs\\langchain\\lib\\site-packages (from langchain==0.3.2) (0.1.131)\n",
      "Requirement already satisfied: numpy<2,>=1 in c:\\users\\dnhoa\\anaconda3\\envs\\langchain\\lib\\site-packages (from langchain==0.3.2) (1.26.4)\n",
      "Requirement already satisfied: pydantic<3.0.0,>=2.7.4 in c:\\users\\dnhoa\\anaconda3\\envs\\langchain\\lib\\site-packages (from langchain==0.3.2) (2.9.2)\n",
      "Requirement already satisfied: requests<3,>=2 in c:\\users\\dnhoa\\anaconda3\\envs\\langchain\\lib\\site-packages (from langchain==0.3.2) (2.32.3)\n",
      "Requirement already satisfied: tenacity!=8.4.0,<9.0.0,>=8.1.0 in c:\\users\\dnhoa\\anaconda3\\envs\\langchain\\lib\\site-packages (from langchain==0.3.2) (8.5.0)\n",
      "Requirement already satisfied: anyio<5,>=3.5.0 in c:\\users\\dnhoa\\anaconda3\\envs\\langchain\\lib\\site-packages (from openai==1.51.0) (4.6.0)\n",
      "Requirement already satisfied: distro<2,>=1.7.0 in c:\\users\\dnhoa\\anaconda3\\envs\\langchain\\lib\\site-packages (from openai==1.51.0) (1.9.0)\n",
      "Requirement already satisfied: httpx<1,>=0.23.0 in c:\\users\\dnhoa\\anaconda3\\envs\\langchain\\lib\\site-packages (from openai==1.51.0) (0.27.2)\n",
      "Requirement already satisfied: jiter<1,>=0.4.0 in c:\\users\\dnhoa\\anaconda3\\envs\\langchain\\lib\\site-packages (from openai==1.51.0) (0.5.0)\n",
      "Requirement already satisfied: sniffio in c:\\users\\dnhoa\\anaconda3\\envs\\langchain\\lib\\site-packages (from openai==1.51.0) (1.3.1)\n",
      "Requirement already satisfied: tqdm>4 in c:\\users\\dnhoa\\anaconda3\\envs\\langchain\\lib\\site-packages (from openai==1.51.0) (4.66.5)\n",
      "Requirement already satisfied: typing-extensions<5,>=4.11 in c:\\users\\dnhoa\\anaconda3\\envs\\langchain\\lib\\site-packages (from openai==1.51.0) (4.11.0)\n",
      "Requirement already satisfied: tiktoken<1,>=0.7 in c:\\users\\dnhoa\\anaconda3\\envs\\langchain\\lib\\site-packages (from langchain-openai==0.2.2) (0.8.0)\n",
      "Requirement already satisfied: dataclasses-json<0.7,>=0.5.7 in c:\\users\\dnhoa\\anaconda3\\envs\\langchain\\lib\\site-packages (from langchain-community==0.3.0) (0.6.7)\n",
      "Requirement already satisfied: pydantic-settings<3.0.0,>=2.4.0 in c:\\users\\dnhoa\\anaconda3\\envs\\langchain\\lib\\site-packages (from langchain-community==0.3.0) (2.5.2)\n",
      "Requirement already satisfied: build>=1.0.3 in c:\\users\\dnhoa\\anaconda3\\envs\\langchain\\lib\\site-packages (from chromadb==0.5.11) (1.2.2)\n",
      "Requirement already satisfied: chroma-hnswlib==0.7.6 in c:\\users\\dnhoa\\anaconda3\\envs\\langchain\\lib\\site-packages (from chromadb==0.5.11) (0.7.6)\n",
      "Requirement already satisfied: fastapi>=0.95.2 in c:\\users\\dnhoa\\anaconda3\\envs\\langchain\\lib\\site-packages (from chromadb==0.5.11) (0.115.0)\n",
      "Requirement already satisfied: uvicorn>=0.18.3 in c:\\users\\dnhoa\\anaconda3\\envs\\langchain\\lib\\site-packages (from uvicorn[standard]>=0.18.3->chromadb==0.5.11) (0.31.0)\n",
      "Requirement already satisfied: posthog>=2.4.0 in c:\\users\\dnhoa\\anaconda3\\envs\\langchain\\lib\\site-packages (from chromadb==0.5.11) (3.7.0)\n",
      "Requirement already satisfied: onnxruntime>=1.14.1 in c:\\users\\dnhoa\\anaconda3\\envs\\langchain\\lib\\site-packages (from chromadb==0.5.11) (1.19.2)\n",
      "Requirement already satisfied: opentelemetry-api>=1.2.0 in c:\\users\\dnhoa\\anaconda3\\envs\\langchain\\lib\\site-packages (from chromadb==0.5.11) (1.27.0)\n",
      "Requirement already satisfied: opentelemetry-exporter-otlp-proto-grpc>=1.2.0 in c:\\users\\dnhoa\\anaconda3\\envs\\langchain\\lib\\site-packages (from chromadb==0.5.11) (1.27.0)\n",
      "Requirement already satisfied: opentelemetry-instrumentation-fastapi>=0.41b0 in c:\\users\\dnhoa\\anaconda3\\envs\\langchain\\lib\\site-packages (from chromadb==0.5.11) (0.48b0)\n",
      "Requirement already satisfied: opentelemetry-sdk>=1.2.0 in c:\\users\\dnhoa\\anaconda3\\envs\\langchain\\lib\\site-packages (from chromadb==0.5.11) (1.27.0)\n",
      "Requirement already satisfied: tokenizers>=0.13.2 in c:\\users\\dnhoa\\anaconda3\\envs\\langchain\\lib\\site-packages (from chromadb==0.5.11) (0.20.0)\n",
      "Requirement already satisfied: pypika>=0.48.9 in c:\\users\\dnhoa\\anaconda3\\envs\\langchain\\lib\\site-packages (from chromadb==0.5.11) (0.48.9)\n",
      "Requirement already satisfied: overrides>=7.3.1 in c:\\users\\dnhoa\\anaconda3\\envs\\langchain\\lib\\site-packages (from chromadb==0.5.11) (7.7.0)\n",
      "Requirement already satisfied: importlib-resources in c:\\users\\dnhoa\\anaconda3\\envs\\langchain\\lib\\site-packages (from chromadb==0.5.11) (6.4.5)\n",
      "Requirement already satisfied: grpcio>=1.58.0 in c:\\users\\dnhoa\\anaconda3\\envs\\langchain\\lib\\site-packages (from chromadb==0.5.11) (1.66.2)\n",
      "Requirement already satisfied: bcrypt>=4.0.1 in c:\\users\\dnhoa\\anaconda3\\envs\\langchain\\lib\\site-packages (from chromadb==0.5.11) (4.2.0)\n",
      "Requirement already satisfied: typer>=0.9.0 in c:\\users\\dnhoa\\anaconda3\\envs\\langchain\\lib\\site-packages (from chromadb==0.5.11) (0.12.5)\n",
      "Requirement already satisfied: kubernetes>=28.1.0 in c:\\users\\dnhoa\\anaconda3\\envs\\langchain\\lib\\site-packages (from chromadb==0.5.11) (31.0.0)\n",
      "Requirement already satisfied: mmh3>=4.0.1 in c:\\users\\dnhoa\\anaconda3\\envs\\langchain\\lib\\site-packages (from chromadb==0.5.11) (5.0.1)\n",
      "Requirement already satisfied: orjson>=3.9.12 in c:\\users\\dnhoa\\anaconda3\\envs\\langchain\\lib\\site-packages (from chromadb==0.5.11) (3.10.7)\n",
      "Requirement already satisfied: rich>=10.11.0 in c:\\users\\dnhoa\\anaconda3\\envs\\langchain\\lib\\site-packages (from chromadb==0.5.11) (13.9.2)\n",
      "Requirement already satisfied: click>=8.1.7 in c:\\users\\dnhoa\\anaconda3\\envs\\langchain\\lib\\site-packages (from duckduckgo-search==6.2.13) (8.1.7)\n",
      "Requirement already satisfied: primp>=0.6.3 in c:\\users\\dnhoa\\anaconda3\\envs\\langchain\\lib\\site-packages (from duckduckgo-search==6.2.13) (0.6.3)\n",
      "Requirement already satisfied: aiohappyeyeballs>=2.3.0 in c:\\users\\dnhoa\\anaconda3\\envs\\langchain\\lib\\site-packages (from aiohttp<4.0.0,>=3.8.3->langchain==0.3.2) (2.4.3)\n",
      "Requirement already satisfied: aiosignal>=1.1.2 in c:\\users\\dnhoa\\anaconda3\\envs\\langchain\\lib\\site-packages (from aiohttp<4.0.0,>=3.8.3->langchain==0.3.2) (1.3.1)\n",
      "Requirement already satisfied: attrs>=17.3.0 in c:\\users\\dnhoa\\anaconda3\\envs\\langchain\\lib\\site-packages (from aiohttp<4.0.0,>=3.8.3->langchain==0.3.2) (24.2.0)\n",
      "Requirement already satisfied: frozenlist>=1.1.1 in c:\\users\\dnhoa\\anaconda3\\envs\\langchain\\lib\\site-packages (from aiohttp<4.0.0,>=3.8.3->langchain==0.3.2) (1.4.1)\n",
      "Requirement already satisfied: multidict<7.0,>=4.5 in c:\\users\\dnhoa\\anaconda3\\envs\\langchain\\lib\\site-packages (from aiohttp<4.0.0,>=3.8.3->langchain==0.3.2) (6.1.0)\n",
      "Requirement already satisfied: yarl<2.0,>=1.12.0 in c:\\users\\dnhoa\\anaconda3\\envs\\langchain\\lib\\site-packages (from aiohttp<4.0.0,>=3.8.3->langchain==0.3.2) (1.13.1)\n",
      "Requirement already satisfied: idna>=2.8 in c:\\users\\dnhoa\\anaconda3\\envs\\langchain\\lib\\site-packages (from anyio<5,>=3.5.0->openai==1.51.0) (3.10)\n",
      "Requirement already satisfied: packaging>=19.1 in c:\\users\\dnhoa\\anaconda3\\envs\\langchain\\lib\\site-packages (from build>=1.0.3->chromadb==0.5.11) (24.1)\n",
      "Requirement already satisfied: pyproject_hooks in c:\\users\\dnhoa\\anaconda3\\envs\\langchain\\lib\\site-packages (from build>=1.0.3->chromadb==0.5.11) (1.2.0)\n",
      "Requirement already satisfied: colorama in c:\\users\\dnhoa\\anaconda3\\envs\\langchain\\lib\\site-packages (from build>=1.0.3->chromadb==0.5.11) (0.4.6)\n",
      "Requirement already satisfied: marshmallow<4.0.0,>=3.18.0 in c:\\users\\dnhoa\\anaconda3\\envs\\langchain\\lib\\site-packages (from dataclasses-json<0.7,>=0.5.7->langchain-community==0.3.0) (3.22.0)\n",
      "Requirement already satisfied: typing-inspect<1,>=0.4.0 in c:\\users\\dnhoa\\anaconda3\\envs\\langchain\\lib\\site-packages (from dataclasses-json<0.7,>=0.5.7->langchain-community==0.3.0) (0.9.0)\n",
      "Requirement already satisfied: starlette<0.39.0,>=0.37.2 in c:\\users\\dnhoa\\anaconda3\\envs\\langchain\\lib\\site-packages (from fastapi>=0.95.2->chromadb==0.5.11) (0.38.6)\n",
      "Requirement already satisfied: certifi in c:\\users\\dnhoa\\anaconda3\\envs\\langchain\\lib\\site-packages (from httpx<1,>=0.23.0->openai==1.51.0) (2024.8.30)\n",
      "Requirement already satisfied: httpcore==1.* in c:\\users\\dnhoa\\anaconda3\\envs\\langchain\\lib\\site-packages (from httpx<1,>=0.23.0->openai==1.51.0) (1.0.6)\n",
      "Requirement already satisfied: h11<0.15,>=0.13 in c:\\users\\dnhoa\\anaconda3\\envs\\langchain\\lib\\site-packages (from httpcore==1.*->httpx<1,>=0.23.0->openai==1.51.0) (0.14.0)\n",
      "Requirement already satisfied: six>=1.9.0 in c:\\users\\dnhoa\\anaconda3\\envs\\langchain\\lib\\site-packages (from kubernetes>=28.1.0->chromadb==0.5.11) (1.16.0)\n",
      "Requirement already satisfied: python-dateutil>=2.5.3 in c:\\users\\dnhoa\\anaconda3\\envs\\langchain\\lib\\site-packages (from kubernetes>=28.1.0->chromadb==0.5.11) (2.9.0.post0)\n",
      "Requirement already satisfied: google-auth>=1.0.1 in c:\\users\\dnhoa\\anaconda3\\envs\\langchain\\lib\\site-packages (from kubernetes>=28.1.0->chromadb==0.5.11) (2.35.0)\n",
      "Requirement already satisfied: websocket-client!=0.40.0,!=0.41.*,!=0.42.*,>=0.32.0 in c:\\users\\dnhoa\\anaconda3\\envs\\langchain\\lib\\site-packages (from kubernetes>=28.1.0->chromadb==0.5.11) (1.8.0)\n",
      "Requirement already satisfied: requests-oauthlib in c:\\users\\dnhoa\\anaconda3\\envs\\langchain\\lib\\site-packages (from kubernetes>=28.1.0->chromadb==0.5.11) (2.0.0)\n",
      "Requirement already satisfied: oauthlib>=3.2.2 in c:\\users\\dnhoa\\anaconda3\\envs\\langchain\\lib\\site-packages (from kubernetes>=28.1.0->chromadb==0.5.11) (3.2.2)\n",
      "Requirement already satisfied: urllib3>=1.24.2 in c:\\users\\dnhoa\\anaconda3\\envs\\langchain\\lib\\site-packages (from kubernetes>=28.1.0->chromadb==0.5.11) (2.2.3)\n",
      "Requirement already satisfied: durationpy>=0.7 in c:\\users\\dnhoa\\anaconda3\\envs\\langchain\\lib\\site-packages (from kubernetes>=28.1.0->chromadb==0.5.11) (0.9)\n",
      "Requirement already satisfied: jsonpatch<2.0,>=1.33 in c:\\users\\dnhoa\\anaconda3\\envs\\langchain\\lib\\site-packages (from langchain-core<0.4.0,>=0.3.8->langchain==0.3.2) (1.33)\n",
      "Requirement already satisfied: requests-toolbelt<2.0.0,>=1.0.0 in c:\\users\\dnhoa\\anaconda3\\envs\\langchain\\lib\\site-packages (from langsmith<0.2.0,>=0.1.17->langchain==0.3.2) (1.0.0)\n",
      "Requirement already satisfied: coloredlogs in c:\\users\\dnhoa\\anaconda3\\envs\\langchain\\lib\\site-packages (from onnxruntime>=1.14.1->chromadb==0.5.11) (15.0.1)\n",
      "Requirement already satisfied: flatbuffers in c:\\users\\dnhoa\\anaconda3\\envs\\langchain\\lib\\site-packages (from onnxruntime>=1.14.1->chromadb==0.5.11) (24.3.25)\n",
      "Requirement already satisfied: protobuf in c:\\users\\dnhoa\\anaconda3\\envs\\langchain\\lib\\site-packages (from onnxruntime>=1.14.1->chromadb==0.5.11) (4.25.5)\n",
      "Requirement already satisfied: sympy in c:\\users\\dnhoa\\anaconda3\\envs\\langchain\\lib\\site-packages (from onnxruntime>=1.14.1->chromadb==0.5.11) (1.13.3)\n",
      "Requirement already satisfied: deprecated>=1.2.6 in c:\\users\\dnhoa\\anaconda3\\envs\\langchain\\lib\\site-packages (from opentelemetry-api>=1.2.0->chromadb==0.5.11) (1.2.14)\n",
      "Requirement already satisfied: importlib-metadata<=8.4.0,>=6.0 in c:\\users\\dnhoa\\anaconda3\\envs\\langchain\\lib\\site-packages (from opentelemetry-api>=1.2.0->chromadb==0.5.11) (8.4.0)\n",
      "Requirement already satisfied: googleapis-common-protos~=1.52 in c:\\users\\dnhoa\\anaconda3\\envs\\langchain\\lib\\site-packages (from opentelemetry-exporter-otlp-proto-grpc>=1.2.0->chromadb==0.5.11) (1.65.0)\n",
      "Requirement already satisfied: opentelemetry-exporter-otlp-proto-common==1.27.0 in c:\\users\\dnhoa\\anaconda3\\envs\\langchain\\lib\\site-packages (from opentelemetry-exporter-otlp-proto-grpc>=1.2.0->chromadb==0.5.11) (1.27.0)\n",
      "Requirement already satisfied: opentelemetry-proto==1.27.0 in c:\\users\\dnhoa\\anaconda3\\envs\\langchain\\lib\\site-packages (from opentelemetry-exporter-otlp-proto-grpc>=1.2.0->chromadb==0.5.11) (1.27.0)\n",
      "Requirement already satisfied: opentelemetry-instrumentation-asgi==0.48b0 in c:\\users\\dnhoa\\anaconda3\\envs\\langchain\\lib\\site-packages (from opentelemetry-instrumentation-fastapi>=0.41b0->chromadb==0.5.11) (0.48b0)\n",
      "Requirement already satisfied: opentelemetry-instrumentation==0.48b0 in c:\\users\\dnhoa\\anaconda3\\envs\\langchain\\lib\\site-packages (from opentelemetry-instrumentation-fastapi>=0.41b0->chromadb==0.5.11) (0.48b0)\n",
      "Requirement already satisfied: opentelemetry-semantic-conventions==0.48b0 in c:\\users\\dnhoa\\anaconda3\\envs\\langchain\\lib\\site-packages (from opentelemetry-instrumentation-fastapi>=0.41b0->chromadb==0.5.11) (0.48b0)\n",
      "Requirement already satisfied: opentelemetry-util-http==0.48b0 in c:\\users\\dnhoa\\anaconda3\\envs\\langchain\\lib\\site-packages (from opentelemetry-instrumentation-fastapi>=0.41b0->chromadb==0.5.11) (0.48b0)\n",
      "Requirement already satisfied: setuptools>=16.0 in c:\\users\\dnhoa\\anaconda3\\envs\\langchain\\lib\\site-packages (from opentelemetry-instrumentation==0.48b0->opentelemetry-instrumentation-fastapi>=0.41b0->chromadb==0.5.11) (75.1.0)\n",
      "Requirement already satisfied: wrapt<2.0.0,>=1.0.0 in c:\\users\\dnhoa\\anaconda3\\envs\\langchain\\lib\\site-packages (from opentelemetry-instrumentation==0.48b0->opentelemetry-instrumentation-fastapi>=0.41b0->chromadb==0.5.11) (1.16.0)\n",
      "Requirement already satisfied: asgiref~=3.0 in c:\\users\\dnhoa\\anaconda3\\envs\\langchain\\lib\\site-packages (from opentelemetry-instrumentation-asgi==0.48b0->opentelemetry-instrumentation-fastapi>=0.41b0->chromadb==0.5.11) (3.8.1)\n",
      "Requirement already satisfied: monotonic>=1.5 in c:\\users\\dnhoa\\anaconda3\\envs\\langchain\\lib\\site-packages (from posthog>=2.4.0->chromadb==0.5.11) (1.6)\n",
      "Requirement already satisfied: backoff>=1.10.0 in c:\\users\\dnhoa\\anaconda3\\envs\\langchain\\lib\\site-packages (from posthog>=2.4.0->chromadb==0.5.11) (2.2.1)\n",
      "Requirement already satisfied: annotated-types>=0.6.0 in c:\\users\\dnhoa\\anaconda3\\envs\\langchain\\lib\\site-packages (from pydantic<3.0.0,>=2.7.4->langchain==0.3.2) (0.7.0)\n",
      "Requirement already satisfied: pydantic-core==2.23.4 in c:\\users\\dnhoa\\anaconda3\\envs\\langchain\\lib\\site-packages (from pydantic<3.0.0,>=2.7.4->langchain==0.3.2) (2.23.4)\n",
      "Requirement already satisfied: charset-normalizer<4,>=2 in c:\\users\\dnhoa\\anaconda3\\envs\\langchain\\lib\\site-packages (from requests<3,>=2->langchain==0.3.2) (3.3.2)\n",
      "Requirement already satisfied: markdown-it-py>=2.2.0 in c:\\users\\dnhoa\\anaconda3\\envs\\langchain\\lib\\site-packages (from rich>=10.11.0->chromadb==0.5.11) (3.0.0)\n",
      "Requirement already satisfied: pygments<3.0.0,>=2.13.0 in c:\\users\\dnhoa\\anaconda3\\envs\\langchain\\lib\\site-packages (from rich>=10.11.0->chromadb==0.5.11) (2.15.1)\n",
      "Requirement already satisfied: greenlet!=0.4.17 in c:\\users\\dnhoa\\anaconda3\\envs\\langchain\\lib\\site-packages (from SQLAlchemy<3,>=1.4->langchain==0.3.2) (3.1.1)\n",
      "Requirement already satisfied: regex>=2022.1.18 in c:\\users\\dnhoa\\anaconda3\\envs\\langchain\\lib\\site-packages (from tiktoken<1,>=0.7->langchain-openai==0.2.2) (2024.9.11)\n",
      "Requirement already satisfied: huggingface-hub<1.0,>=0.16.4 in c:\\users\\dnhoa\\anaconda3\\envs\\langchain\\lib\\site-packages (from tokenizers>=0.13.2->chromadb==0.5.11) (0.25.1)\n",
      "Requirement already satisfied: shellingham>=1.3.0 in c:\\users\\dnhoa\\anaconda3\\envs\\langchain\\lib\\site-packages (from typer>=0.9.0->chromadb==0.5.11) (1.5.4)\n",
      "Requirement already satisfied: httptools>=0.5.0 in c:\\users\\dnhoa\\anaconda3\\envs\\langchain\\lib\\site-packages (from uvicorn[standard]>=0.18.3->chromadb==0.5.11) (0.6.1)\n",
      "Requirement already satisfied: watchfiles>=0.13 in c:\\users\\dnhoa\\anaconda3\\envs\\langchain\\lib\\site-packages (from uvicorn[standard]>=0.18.3->chromadb==0.5.11) (0.24.0)\n",
      "Requirement already satisfied: websockets>=10.4 in c:\\users\\dnhoa\\anaconda3\\envs\\langchain\\lib\\site-packages (from uvicorn[standard]>=0.18.3->chromadb==0.5.11) (13.1)\n",
      "Requirement already satisfied: cachetools<6.0,>=2.0.0 in c:\\users\\dnhoa\\anaconda3\\envs\\langchain\\lib\\site-packages (from google-auth>=1.0.1->kubernetes>=28.1.0->chromadb==0.5.11) (5.5.0)\n",
      "Requirement already satisfied: pyasn1-modules>=0.2.1 in c:\\users\\dnhoa\\anaconda3\\envs\\langchain\\lib\\site-packages (from google-auth>=1.0.1->kubernetes>=28.1.0->chromadb==0.5.11) (0.4.1)\n",
      "Requirement already satisfied: rsa<5,>=3.1.4 in c:\\users\\dnhoa\\anaconda3\\envs\\langchain\\lib\\site-packages (from google-auth>=1.0.1->kubernetes>=28.1.0->chromadb==0.5.11) (4.9)\n",
      "Requirement already satisfied: filelock in c:\\users\\dnhoa\\anaconda3\\envs\\langchain\\lib\\site-packages (from huggingface-hub<1.0,>=0.16.4->tokenizers>=0.13.2->chromadb==0.5.11) (3.16.1)\n",
      "Requirement already satisfied: fsspec>=2023.5.0 in c:\\users\\dnhoa\\anaconda3\\envs\\langchain\\lib\\site-packages (from huggingface-hub<1.0,>=0.16.4->tokenizers>=0.13.2->chromadb==0.5.11) (2024.9.0)\n",
      "Requirement already satisfied: zipp>=0.5 in c:\\users\\dnhoa\\anaconda3\\envs\\langchain\\lib\\site-packages (from importlib-metadata<=8.4.0,>=6.0->opentelemetry-api>=1.2.0->chromadb==0.5.11) (3.20.2)\n",
      "Requirement already satisfied: jsonpointer>=1.9 in c:\\users\\dnhoa\\anaconda3\\envs\\langchain\\lib\\site-packages (from jsonpatch<2.0,>=1.33->langchain-core<0.4.0,>=0.3.8->langchain==0.3.2) (3.0.0)\n",
      "Requirement already satisfied: mdurl~=0.1 in c:\\users\\dnhoa\\anaconda3\\envs\\langchain\\lib\\site-packages (from markdown-it-py>=2.2.0->rich>=10.11.0->chromadb==0.5.11) (0.1.2)\n",
      "Requirement already satisfied: mypy-extensions>=0.3.0 in c:\\users\\dnhoa\\anaconda3\\envs\\langchain\\lib\\site-packages (from typing-inspect<1,>=0.4.0->dataclasses-json<0.7,>=0.5.7->langchain-community==0.3.0) (1.0.0)\n",
      "Requirement already satisfied: humanfriendly>=9.1 in c:\\users\\dnhoa\\anaconda3\\envs\\langchain\\lib\\site-packages (from coloredlogs->onnxruntime>=1.14.1->chromadb==0.5.11) (10.0)\n",
      "Requirement already satisfied: mpmath<1.4,>=1.1.0 in c:\\users\\dnhoa\\anaconda3\\envs\\langchain\\lib\\site-packages (from sympy->onnxruntime>=1.14.1->chromadb==0.5.11) (1.3.0)\n",
      "Requirement already satisfied: pyreadline3 in c:\\users\\dnhoa\\anaconda3\\envs\\langchain\\lib\\site-packages (from humanfriendly>=9.1->coloredlogs->onnxruntime>=1.14.1->chromadb==0.5.11) (3.5.4)\n",
      "Requirement already satisfied: pyasn1<0.7.0,>=0.4.6 in c:\\users\\dnhoa\\anaconda3\\envs\\langchain\\lib\\site-packages (from pyasn1-modules>=0.2.1->google-auth>=1.0.1->kubernetes>=28.1.0->chromadb==0.5.11) (0.6.1)\n"
     ]
    }
   ],
   "source": [
    "! pip install langchain==0.3.2 openai==1.51.0 python-dotenv==1.0.1 langchain-openai==0.2.2 langchain-community==0.3.0 pypdf==5.0.1 chromadb==0.5.11 duckduckgo-search==6.2.13 numexpr==2.10.1"
   ]
  },
  {
   "cell_type": "markdown",
   "metadata": {},
   "source": [
    "# Init variables"
   ]
  },
  {
   "cell_type": "markdown",
   "metadata": {},
   "source": [
    "You need to set value of `OPENAI_API_KEY` that you get from the training team in the .env file"
   ]
  },
  {
   "cell_type": "code",
   "execution_count": 1,
   "metadata": {},
   "outputs": [],
   "source": [
    "import openai, os\n",
    "from dotenv import load_dotenv\n",
    "\n",
    "OPENAI_API_KEY = os.getenv(\"AZURE_OPENAI_API_KEY\")\n",
    "OPENAI_DEPLOYMENT_ENDPOINT = os.getenv(\"AZURE_OPENAI_ENDPOINT\")\n",
    "OPENAI_DEPLOYMENT_VERSION = \"2024-06-01\"\n",
    "OPENAI_MODEL_NAME = \"gpt-4o\"\n",
    "\n",
    "OPENAI_ADA_EMBEDDING_MODEL_NAME = \"text-embedding-ada-002\"\n",
    "OPENAI_ADA_EMBEDDING_DEPLOYMENT = \"text-embedding-ada-002\""
   ]
  },
  {
   "cell_type": "markdown",
   "metadata": {},
   "source": [
    "# Overviews\n",
    "The BonBon FAQ.pdf file contains frequently asked questions and answers for customer support scenario. The topics are around IT related issue troubleshooting such as networking, software, hardware. You are requested to provide a solution to build a chat bot capable of answering the user questions with LangChain."
   ]
  },
  {
   "cell_type": "markdown",
   "metadata": {},
   "source": [
    "## Assignment 1: Document Indexing (mandatory)"
   ]
  },
  {
   "cell_type": "markdown",
   "metadata": {},
   "source": [
    "- The content of BonBon FAQ.pdf should be indexed to the local Chroma vector DB from where the chatbot can lookup the appropriate information to answer questions.\n",
    "- Should use some embedding model such as Azure Open AI text-embedding-ada-002 to create vectors, feel free to use any other open source embedding model if it works."
   ]
  },
  {
   "cell_type": "markdown",
   "metadata": {},
   "source": [
    "## Create an embedding model"
   ]
  },
  {
   "cell_type": "code",
   "execution_count": 2,
   "metadata": {},
   "outputs": [],
   "source": [
    "from langchain_openai import AzureOpenAIEmbeddings\n",
    "\n",
    "# setup embedding model\n",
    "embeddings = AzureOpenAIEmbeddings(\n",
    "    deployment=OPENAI_ADA_EMBEDDING_DEPLOYMENT,\n",
    "    model=OPENAI_ADA_EMBEDDING_MODEL_NAME,\n",
    "    chunk_size=1,\n",
    "    api_key=OPENAI_API_KEY,\n",
    "    api_version=OPENAI_DEPLOYMENT_VERSION,\n",
    ")"
   ]
  },
  {
   "cell_type": "markdown",
   "metadata": {},
   "source": [
    "## Load data "
   ]
  },
  {
   "cell_type": "code",
   "execution_count": 3,
   "metadata": {},
   "outputs": [],
   "source": [
    "from langchain.text_splitter import RecursiveCharacterTextSplitter\n",
    "from pypdf import PdfReader\n",
    "from pydantic import BaseModel, Field\n",
    "\n",
    "file_path = \".\\data\\BonBon FAQ.pdf\"\n",
    "reader = PdfReader(file_path)\n",
    "documents = [page.extract_text() for page in reader.pages]\n",
    "text_splitter = RecursiveCharacterTextSplitter(chunk_size=1000, chunk_overlap=100)\n",
    "\n"
   ]
  },
  {
   "cell_type": "markdown",
   "metadata": {},
   "source": [
    "## Setup collection name and local data store"
   ]
  },
  {
   "cell_type": "code",
   "execution_count": 4,
   "metadata": {},
   "outputs": [],
   "source": [
    "import os \n",
    "\n",
    "persist_directory = \"local_vectorstore\"\n",
    "local_store = \"local_docstore\"\n",
    "collection_name = \"react_agent\"\n",
    "try:\n",
    "    PROJECT_ROOT = os.path.dirname(os.path.abspath(__file__))\n",
    "except Exception:\n",
    "    PROJECT_ROOT = os.getcwd()"
   ]
  },
  {
   "cell_type": "markdown",
   "metadata": {},
   "source": [
    "## Load vector collection\n",
    "### Case 1: Vector collection doesn't exist -> Create new collection"
   ]
  },
  {
   "cell_type": "code",
   "execution_count": 59,
   "metadata": {},
   "outputs": [
    {
     "name": "stdout",
     "output_type": "stream",
     "text": [
      "Collection 'react_agent' created\n"
     ]
    }
   ],
   "source": [
    "import chromadb\n",
    "client = chromadb.PersistentClient(path = os.path.join(PROJECT_ROOT, \"data\", local_store))\n",
    "\n",
    "# Create a collection\n",
    "try:\n",
    "    client.delete_collection(collection_name)\n",
    "except:\n",
    "    print(f\"Collection '{collection_name}' did not exist\")\n",
    "collection = client.create_collection(collection_name)\n",
    "print(f\"Collection '{collection_name}' created\")"
   ]
  },
  {
   "cell_type": "code",
   "execution_count": 60,
   "metadata": {},
   "outputs": [],
   "source": [
    "for doc_i,doc in enumerate(documents):\n",
    "    chunks = text_splitter.split_text(doc)\n",
    "    for index, chunk in enumerate(chunks):\n",
    "        vector = embeddings.embed_query(chunk)  # Create an embedding for the document\n",
    "        collection.add(\n",
    "            ids=[chunk],\n",
    "            documents=[chunk],\n",
    "            embeddings=[vector],  # The vector representation\n",
    "            metadatas=[{\"page\": doc_i, \"source\": \"BonBon FAQ\"}]  # Optional metadata\n",
    "        )"
   ]
  },
  {
   "cell_type": "markdown",
   "metadata": {},
   "source": [
    "## Case 2: Load existing vector collection"
   ]
  },
  {
   "cell_type": "code",
   "execution_count": 22,
   "metadata": {},
   "outputs": [],
   "source": [
    "import os\n",
    "\n",
    "import chromadb\n",
    "client = chromadb.PersistentClient(path = os.path.join(PROJECT_ROOT, \"data\", local_store))\n",
    "\n",
    "# Create a collection\n",
    "collection = client.get_collection(name=collection_name)"
   ]
  },
  {
   "cell_type": "markdown",
   "metadata": {},
   "source": [
    "## Create a vector store from collection"
   ]
  },
  {
   "cell_type": "code",
   "execution_count": 61,
   "metadata": {},
   "outputs": [],
   "source": [
    "from langchain.vectorstores import Chroma\n",
    "\n",
    "vectorstore = Chroma(client=client, collection_name=collection_name, embedding_function=embeddings)"
   ]
  },
  {
   "cell_type": "markdown",
   "metadata": {},
   "source": [
    "## Assignment 2: Building Chatbot (mandatory)\n",
    "- You are requested to build a chatbot solution for customer support scenario using Conversational ReAct agent supported in LangChain\n",
    "- The chatbot is able to support user to answer FAQs in the sample BonBon FAQ.pdf file.\n",
    "- The chatbot should use Azure Open AI GPT-3.5 LLM as the reasoning engine.\n",
    "- The chatbot should be context aware, meaning that it should be able to chat with users in the conversation manner.\n",
    "- The agent is equipped the following tools:\n",
    "  - Internet Search: Help the chatbot automatically find out more about something using Duck Duck Go internet search\n",
    "  - Knowledge Base Search: Help the chatbot to lookup information in the private knowledge base\n",
    "- In case user asks for information related to topics in the BonBon FAQ.pdf file such as internet connection, printer, malware issues the chatbot must use the private knowledge base, otherwise it should search on the internet to answer the question.\n",
    "- In the answer of chatbot, it should mention the source file and the page that the answer belongs to, for example the answer should mention \"BonBon FQA.pdf (page 2)\""
   ]
  },
  {
   "cell_type": "markdown",
   "metadata": {},
   "source": [
    "## Set up Tools for agent"
   ]
  },
  {
   "cell_type": "code",
   "execution_count": 67,
   "metadata": {},
   "outputs": [],
   "source": [
    "from langchain import hub\n",
    "from langchain.agents import (\n",
    "    AgentExecutor,\n",
    "    Tool,\n",
    "    create_openai_tools_agent,\n",
    "    create_react_agent,\n",
    "    tool,\n",
    ")\n",
    "from langchain_openai import AzureChatOpenAI\n",
    "from langchain.memory import ConversationEntityMemory\n",
    "from langchain.chains import LLMMathChain, RetrievalQA\n",
    "from langchain_core.prompts.prompt import PromptTemplate\n",
    "from langchain_community.tools import DuckDuckGoSearchRun\n",
    "# Setting up ReAct Agent\n",
    "\n",
    "llm = AzureChatOpenAI(\n",
    "    deployment_name=OPENAI_MODEL_NAME,\n",
    "    model_name=OPENAI_MODEL_NAME,\n",
    "    azure_endpoint=OPENAI_DEPLOYMENT_ENDPOINT,\n",
    "    api_version=OPENAI_DEPLOYMENT_VERSION,\n",
    "    api_key=OPENAI_API_KEY,\n",
    "    temperature=0,\n",
    ")\n",
    "\n",
    "retriever = vectorstore.as_retriever()\n",
    "doc_prompt = PromptTemplate.from_template(\n",
    "    \"<context>\\n{page_content}\\n\\n<meta>\\nsource: {source}\\npage: {page}\\n</meta>\\n</context>\"\n",
    ")\n",
    "tool_search = create_retriever_tool(\n",
    "    retriever=retriever,\n",
    "    name=\"Search BonBon\",\n",
    "    description=\"Searches and returns answer from BONBON FAQ.\",\n",
    "    document_prompt=doc_prompt,\n",
    ")\n",
    "\n",
    "math_chain = LLMMathChain.from_llm(llm=llm)\n",
    "duckduck = DuckDuckGoSearchRun()\n",
    "\n",
    "tools = [\n",
    "    tool_search,\n",
    "    Tool(\n",
    "        name=\"Duck Duck Go\",\n",
    "        func=duckduck.run,\n",
    "        description=\"useful for when you need to search for more information on the internet with Duck Duck Go search\",\n",
    "    ),\n",
    "    Tool(\n",
    "        name=\"Calculator\",\n",
    "        func=math_chain.run,\n",
    "        description=\"use this tool for math calculating\",\n",
    "    ),\n",
    "]"
   ]
  },
  {
   "cell_type": "markdown",
   "metadata": {},
   "source": [
    "## Building agent"
   ]
  },
  {
   "cell_type": "code",
   "execution_count": 68,
   "metadata": {},
   "outputs": [
    {
     "name": "stderr",
     "output_type": "stream",
     "text": [
      "c:\\Users\\dnhoa\\anaconda3\\envs\\langchain\\Lib\\site-packages\\langsmith\\client.py:354: LangSmithMissingAPIKeyWarning: API key must be provided when using hosted LangSmith API\n",
      "  warnings.warn(\n"
     ]
    }
   ],
   "source": [
    "template = \"\"\"\n",
    "Answer the following questions as best you can. You can use history {history} to fill in unknown context. You have access to the following tools:\n",
    "\n",
    "{tools}\n",
    "\n",
    "Use the following format:\n",
    "Remember: If any invalid format occurs, terminate and return answer\n",
    "Question: the input question you must answer\n",
    "Thought: you should always think about what to do\n",
    "Action: the action to take, find in Search BonBon tool first, then should be one of [{tool_names}]. If not, terminate answer\n",
    "Action Input: the input to the action\n",
    "Observation: the result of the action\n",
    "... (this Thought/Action/Action Input/Observation can repeat at most 5 times.)\n",
    "Thought: I now know the final answer. Let's return the answer\n",
    "Final Answer: the final answer to the original input question. If use Search BonBon then include the page of the PDF file that has the question\n",
    "You should only tell the final answere\n",
    "Begin!\n",
    "Context:\n",
    "{entities}\n",
    "\n",
    "Current conversation:\n",
    "Chat History:\n",
    "{history}\n",
    "Last line:\n",
    "Human: {input}\n",
    "Thought: {agent_scratchpad}\n",
    "\"\"\"\n",
    "prompt_react = hub.pull(\"hwchase17/react\")\n",
    "prompt_react.template = template\n",
    "react_agent = create_react_agent(llm=llm, tools=tools, prompt=prompt_react)\n",
    "react_agent_executor = AgentExecutor(\n",
    "    agent=react_agent,\n",
    "    tools=tools,\n",
    "    verbose=True,\n",
    "    handle_parsing_errors=True,\n",
    "    memory=ConversationEntityMemory(llm=llm, top_k=3),\n",
    "    max_iterations=3\n",
    ")"
   ]
  },
  {
   "cell_type": "markdown",
   "metadata": {},
   "source": [
    "## Building chatbot that wrap around agent"
   ]
  },
  {
   "cell_type": "code",
   "execution_count": 70,
   "metadata": {},
   "outputs": [
    {
     "name": "stdout",
     "output_type": "stream",
     "text": [
      "\n",
      "\n",
      "\u001b[1m> Entering new AgentExecutor chain...\u001b[0m\n",
      "\u001b[32;1m\u001b[1;3mFinal Answer: 2\u001b[0m\n",
      "\n",
      "\u001b[1m> Finished chain.\u001b[0m\n",
      "2\n",
      "\n",
      "\n",
      "\u001b[1m> Entering new AgentExecutor chain...\u001b[0m\n",
      "\u001b[32;1m\u001b[1;3mAction: Search BonBon\n",
      "Action Input: \"printing problems\"\u001b[0m\u001b[36;1m\u001b[1;3m<context>\n",
      "print job.  \n",
      "8. Test with a different document or application:  \n",
      "• Try printing from a different document or application to see if the issue is specific to one \n",
      "file or program. If you can print successfully from other sources, the problem may lie within the \n",
      "original document or application.  \n",
      "9. Restart print spooler service (Windows):  \n",
      "• Open the \"Services\" application on your laptop. Locate the \"Print Spooler\" service, right -\n",
      "click on it, and select \"Restart.\" This action clears the print spooler and can resolve certain \n",
      "printing issues.  \n",
      "10. Reinstall printer software:\n",
      "\n",
      "<meta>\n",
      "source: BonBon FAQ\n",
      "page: 8\n",
      "</meta>\n",
      "</context>\n",
      "\n",
      "<context>\n",
      "queue by clicking on the printer icon in the system tray (Windows) or the printer settings (Mac). \n",
      "Cancel any pending print jobs, and then try printing again.  \n",
      "5. Restart printer and laptop:  \n",
      "• Power off your printer and laptop completely. Wait for a few seconds, then power them \n",
      "back on. This can resolve temporary issues and refresh the printer and computer connections.  \n",
      "6. Update printer drivers:  \n",
      "• Outdated or incompatible printer drivers can cause printing problems. Visit the printer \n",
      "manufacturer's website and search for the latest drivers for your specific printer model. \n",
      "Download and install the updated drivers on your laptop.  \n",
      "7. Check printer settings:  \n",
      "• Open the printer properties or settings on your laptop. Ensure that the correct printer is \n",
      "selected and verify that the settings (such as paper size, print quality, etc.) match your desired \n",
      "print job.  \n",
      "8. Test with a different document or application:\n",
      "\n",
      "<meta>\n",
      "source: BonBon FAQ\n",
      "page: 8\n",
      "</meta>\n",
      "</context>\n",
      "\n",
      "<context>\n",
      "• Ensure that your printer is properly connected to your laptop via USB, network, or \n",
      "wireless connection. Make sure all cables are securely connected.  \n",
      "2. Confirm printer power and status:  \n",
      "• Check that your printer is turned on and has no error messages or warning lights \n",
      "indicating an issue. If necessary, refer to the printer's manual for troubleshooting steps.  \n",
      "3. Set printer as default:  \n",
      "• On your laptop, go to the \"Control Panel\" (Windows) or \"System Preferences\" (Mac) and \n",
      "navigate to the \"Printers\" or \"Print & Scan\" section. Right -click on your printer and select \"Set as \n",
      "default printer\" (Windows) or click the lock icon and enter your pa ssword, then select your \n",
      "printer and click the \"Set as default\" button (Mac).  \n",
      "4. Clear print queue:  \n",
      "• Sometimes, print jobs can get stuck in the print queue and cause issues. Open the print \n",
      "queue by clicking on the printer icon in the system tray (Windows) or the printer settings (Mac).\n",
      "\n",
      "<meta>\n",
      "source: BonBon FAQ\n",
      "page: 8\n",
      "</meta>\n",
      "</context>\n",
      "\n",
      "<context>\n",
      "downloads automatically with the installation file  \n",
      "4. If you can’t find the software in the Catalogue, please contact the IT Helpdesk  \n",
      " \n",
      "Q: I can't print. What should I check or do to fix the issue?  \n",
      "1. Check printer connections:\n",
      "\n",
      "<meta>\n",
      "source: BonBon FAQ\n",
      "page: 7\n",
      "</meta>\n",
      "</context>\u001b[0m\u001b[32;1m\u001b[1;3mFinal Answer: To resolve printing problems, follow these steps:\n",
      "\n",
      "1. Check printer connections.\n",
      "2. Confirm printer power and status.\n",
      "3. Set printer as default.\n",
      "4. Clear print queue.\n",
      "5. Restart printer and laptop.\n",
      "6. Update printer drivers.\n",
      "7. Check printer settings.\n",
      "8. Test with a different document or application.\n",
      "9. Restart print spooler service (Windows).\n",
      "10. Reinstall printer software.\n",
      "\n",
      "For more detailed instructions, refer to pages 7 and 8 of the BonBon FAQ.\u001b[0m\n",
      "\n",
      "\u001b[1m> Finished chain.\u001b[0m\n",
      "To resolve printing problems, follow these steps:\n",
      "\n",
      "1. Check printer connections.\n",
      "2. Confirm printer power and status.\n",
      "3. Set printer as default.\n",
      "4. Clear print queue.\n",
      "5. Restart printer and laptop.\n",
      "6. Update printer drivers.\n",
      "7. Check printer settings.\n",
      "8. Test with a different document or application.\n",
      "9. Restart print spooler service (Windows).\n",
      "10. Reinstall printer software.\n",
      "\n",
      "For more detailed instructions, refer to pages 7 and 8 of the BonBon FAQ.\n"
     ]
    }
   ],
   "source": [
    "i = input(\"enter prompt ('exit' to terminate): \")\n",
    "while i.lower() != \"exit\":\n",
    "    query = i\n",
    "    response = react_agent_executor.invoke({\"input\": query})\n",
    "    result = response.get(\"output\")\n",
    "    print(result)\n",
    "    i = input(\"enter new prompt ('exit' to terminate): \")"
   ]
  },
  {
   "cell_type": "markdown",
   "metadata": {},
   "source": [
    "## Assignment 3: Build a new assistant based on BonBon source code (optional)\n",
    "The objective\n",
    "- Run the code and index the sample BonBon FAQ.pdf file to Azure Cognitive Search\n",
    "- Explore the code and implement a new assistant that has the same behavior as above\n",
    "- Explore other features such as RBACs, features on admin portal\n",
    "\n",
    "Please contact the training team in case you need to get the source code of BonBon."
   ]
  }
 ],
 "metadata": {
  "kernelspec": {
   "display_name": "langchain",
   "language": "python",
   "name": "python3"
  },
  "language_info": {
   "codemirror_mode": {
    "name": "ipython",
    "version": 3
   },
   "file_extension": ".py",
   "mimetype": "text/x-python",
   "name": "python",
   "nbconvert_exporter": "python",
   "pygments_lexer": "ipython3",
   "version": "3.11.10"
  }
 },
 "nbformat": 4,
 "nbformat_minor": 2
}
